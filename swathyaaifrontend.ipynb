{
 "cells": [
  {
   "cell_type": "code",
   "execution_count": null,
   "metadata": {
    "colab": {
     "base_uri": "https://localhost:8080/",
     "height": 1000
    },
    "id": "wMpyA8oyS8-9",
    "outputId": "c9697441-2c71-448c-8dd4-4247dbbe9bad"
   },
   "outputs": [
    {
     "name": "stdout",
     "output_type": "stream",
     "text": [
      "Requirement already satisfied: fuzzywuzzy in /usr/local/lib/python3.11/dist-packages (0.18.0)\n",
      "Requirement already satisfied: python-Levenshtein in /usr/local/lib/python3.11/dist-packages (0.27.1)\n",
      "Requirement already satisfied: Levenshtein==0.27.1 in /usr/local/lib/python3.11/dist-packages (from python-Levenshtein) (0.27.1)\n",
      "Requirement already satisfied: rapidfuzz<4.0.0,>=3.9.0 in /usr/local/lib/python3.11/dist-packages (from Levenshtein==0.27.1->python-Levenshtein) (3.13.0)\n",
      "\n",
      "✅ Test Accuracy: 0.9979674796747967\n",
      "              precision    recall  f1-score   support\n",
      "\n",
      "           0       1.00      1.00      1.00        24\n",
      "           1       1.00      1.00      1.00        24\n",
      "           2       0.92      1.00      0.96        24\n",
      "           3       1.00      1.00      1.00        24\n",
      "           4       1.00      1.00      1.00        24\n",
      "           5       1.00      1.00      1.00        24\n",
      "           6       1.00      1.00      1.00        24\n",
      "           7       1.00      1.00      1.00        24\n",
      "           8       1.00      1.00      1.00        24\n",
      "           9       1.00      1.00      1.00        24\n",
      "          10       1.00      1.00      1.00        24\n",
      "          11       1.00      1.00      1.00        24\n",
      "          12       1.00      1.00      1.00        24\n",
      "          13       1.00      1.00      1.00        24\n",
      "          14       1.00      1.00      1.00        24\n",
      "          15       1.00      0.92      0.96        24\n",
      "          16       1.00      1.00      1.00        24\n",
      "          17       1.00      1.00      1.00        24\n",
      "          18       1.00      1.00      1.00        24\n",
      "          19       1.00      1.00      1.00        24\n",
      "          20       1.00      1.00      1.00        24\n",
      "          21       1.00      1.00      1.00        24\n",
      "          22       1.00      1.00      1.00        24\n",
      "          23       1.00      1.00      1.00        24\n",
      "          24       1.00      1.00      1.00        24\n",
      "          25       1.00      1.00      1.00        24\n",
      "          26       1.00      1.00      1.00        24\n",
      "          27       1.00      1.00      1.00        24\n",
      "          28       1.00      1.00      1.00        24\n",
      "          29       1.00      1.00      1.00        24\n",
      "          30       1.00      1.00      1.00        24\n",
      "          31       1.00      1.00      1.00        24\n",
      "          32       1.00      1.00      1.00        24\n",
      "          33       1.00      1.00      1.00        24\n",
      "          34       1.00      1.00      1.00        24\n",
      "          35       1.00      1.00      1.00        24\n",
      "          36       1.00      1.00      1.00        24\n",
      "          37       1.00      1.00      1.00        24\n",
      "          38       1.00      1.00      1.00        24\n",
      "          39       1.00      1.00      1.00        24\n",
      "          40       1.00      1.00      1.00        24\n",
      "\n",
      "    accuracy                           1.00       984\n",
      "   macro avg       1.00      1.00      1.00       984\n",
      "weighted avg       1.00      1.00      1.00       984\n",
      "\n"
     ]
    },
    {
     "ename": "FileNotFoundError",
     "evalue": "[Errno 2] No such file or directory: '../model/symptom_mapping.json'",
     "output_type": "error",
     "traceback": [
      "\u001b[0;31m---------------------------------------------------------------------------\u001b[0m",
      "\u001b[0;31mFileNotFoundError\u001b[0m                         Traceback (most recent call last)",
      "\u001b[0;32m/tmp/ipython-input-1364477167.py\u001b[0m in \u001b[0;36m<cell line: 0>\u001b[0;34m()\u001b[0m\n\u001b[1;32m     95\u001b[0m     \u001b[0;34m\"yellow eyes\"\u001b[0m\u001b[0;34m:\u001b[0m \u001b[0;34m\"yellowing_of_eyes\"\u001b[0m\u001b[0;34m\u001b[0m\u001b[0;34m\u001b[0m\u001b[0m\n\u001b[1;32m     96\u001b[0m }\n\u001b[0;32m---> 97\u001b[0;31m \u001b[0;32mwith\u001b[0m \u001b[0mopen\u001b[0m\u001b[0;34m(\u001b[0m\u001b[0;34m\"../model/symptom_mapping.json\"\u001b[0m\u001b[0;34m,\u001b[0m \u001b[0;34m\"w\"\u001b[0m\u001b[0;34m)\u001b[0m \u001b[0;32mas\u001b[0m \u001b[0mf\u001b[0m\u001b[0;34m:\u001b[0m\u001b[0;34m\u001b[0m\u001b[0;34m\u001b[0m\u001b[0m\n\u001b[0m\u001b[1;32m     98\u001b[0m     \u001b[0mjson\u001b[0m\u001b[0;34m.\u001b[0m\u001b[0mdump\u001b[0m\u001b[0;34m(\u001b[0m\u001b[0mSYMPTOM_SYNONYMS\u001b[0m\u001b[0;34m,\u001b[0m \u001b[0mf\u001b[0m\u001b[0;34m,\u001b[0m \u001b[0mindent\u001b[0m\u001b[0;34m=\u001b[0m\u001b[0;36m2\u001b[0m\u001b[0;34m)\u001b[0m\u001b[0;34m\u001b[0m\u001b[0;34m\u001b[0m\u001b[0m\n\u001b[1;32m     99\u001b[0m \u001b[0;34m\u001b[0m\u001b[0m\n",
      "\u001b[0;31mFileNotFoundError\u001b[0m: [Errno 2] No such file or directory: '../model/symptom_mapping.json'"
     ]
    }
   ],
   "source": [
    "df = pd.read_csv(\"/mnt/data/improved_disease_dataset.csv\")\n",
    "df.head()"
   ]
  },
  {
   "cell_type": "code",
   "execution_count": 2,
   "metadata": {
    "colab": {
     "base_uri": "https://localhost:8080/",
     "height": 634
    },
    "id": "Py8w8h74npcj",
    "outputId": "edd46806-0dbc-4a27-9d1f-d58fea6d6f7f"
   },
   "outputs": [
    {
     "name": "stdout",
     "output_type": "stream",
     "text": [
      "Collecting fuzzywuzzy\n",
      "  Downloading fuzzywuzzy-0.18.0-py2.py3-none-any.whl.metadata (4.9 kB)\n",
      "Collecting python-Levenshtein\n",
      "  Downloading python_levenshtein-0.27.1-py3-none-any.whl.metadata (3.7 kB)\n",
      "Collecting Levenshtein==0.27.1 (from python-Levenshtein)\n",
      "  Downloading levenshtein-0.27.1-cp311-cp311-manylinux_2_17_x86_64.manylinux2014_x86_64.whl.metadata (3.6 kB)\n",
      "Collecting rapidfuzz<4.0.0,>=3.9.0 (from Levenshtein==0.27.1->python-Levenshtein)\n",
      "  Downloading rapidfuzz-3.13.0-cp311-cp311-manylinux_2_17_x86_64.manylinux2014_x86_64.whl.metadata (12 kB)\n",
      "Downloading fuzzywuzzy-0.18.0-py2.py3-none-any.whl (18 kB)\n",
      "Downloading python_levenshtein-0.27.1-py3-none-any.whl (9.4 kB)\n",
      "Downloading levenshtein-0.27.1-cp311-cp311-manylinux_2_17_x86_64.manylinux2014_x86_64.whl (161 kB)\n",
      "\u001b[2K   \u001b[90m━━━━━━━━━━━━━━━━━━━━━━━━━━━━━━━━━━━━━━━━\u001b[0m \u001b[32m161.7/161.7 kB\u001b[0m \u001b[31m5.0 MB/s\u001b[0m eta \u001b[36m0:00:00\u001b[0m\n",
      "\u001b[?25hDownloading rapidfuzz-3.13.0-cp311-cp311-manylinux_2_17_x86_64.manylinux2014_x86_64.whl (3.1 MB)\n",
      "\u001b[2K   \u001b[90m━━━━━━━━━━━━━━━━━━━━━━━━━━━━━━━━━━━━━━━━\u001b[0m \u001b[32m3.1/3.1 MB\u001b[0m \u001b[31m47.9 MB/s\u001b[0m eta \u001b[36m0:00:00\u001b[0m\n",
      "\u001b[?25hInstalling collected packages: fuzzywuzzy, rapidfuzz, Levenshtein, python-Levenshtein\n",
      "Successfully installed Levenshtein-0.27.1 fuzzywuzzy-0.18.0 python-Levenshtein-0.27.1 rapidfuzz-3.13.0\n"
     ]
    },
    {
     "ename": "KeyboardInterrupt",
     "evalue": "Interrupted by user",
     "output_type": "error",
     "traceback": [
      "\u001b[0;31m---------------------------------------------------------------------------\u001b[0m",
      "\u001b[0;31mKeyboardInterrupt\u001b[0m                         Traceback (most recent call last)",
      "\u001b[0;32m/tmp/ipython-input-2244522364.py\u001b[0m in \u001b[0;36m<cell line: 0>\u001b[0;34m()\u001b[0m\n\u001b[1;32m     33\u001b[0m \u001b[0;34m\u001b[0m\u001b[0m\n\u001b[1;32m     34\u001b[0m \u001b[0;31m# === Run this to get prediction ===\u001b[0m\u001b[0;34m\u001b[0m\u001b[0;34m\u001b[0m\u001b[0m\n\u001b[0;32m---> 35\u001b[0;31m \u001b[0muser_input\u001b[0m \u001b[0;34m=\u001b[0m \u001b[0minput\u001b[0m\u001b[0;34m(\u001b[0m\u001b[0;34m\"🤖 Enter your symptoms (comma-separated):\\n\"\u001b[0m\u001b[0;34m)\u001b[0m\u001b[0;34m\u001b[0m\u001b[0;34m\u001b[0m\u001b[0m\n\u001b[0m\u001b[1;32m     36\u001b[0m predict_user_symptoms(\n\u001b[1;32m     37\u001b[0m     \u001b[0minput_string\u001b[0m\u001b[0;34m=\u001b[0m\u001b[0muser_input\u001b[0m\u001b[0;34m,\u001b[0m\u001b[0;34m\u001b[0m\u001b[0;34m\u001b[0m\u001b[0m\n",
      "\u001b[0;32m/usr/local/lib/python3.11/dist-packages/ipykernel/kernelbase.py\u001b[0m in \u001b[0;36mraw_input\u001b[0;34m(self, prompt)\u001b[0m\n\u001b[1;32m   1175\u001b[0m                 \u001b[0;34m\"raw_input was called, but this frontend does not support input requests.\"\u001b[0m\u001b[0;34m\u001b[0m\u001b[0;34m\u001b[0m\u001b[0m\n\u001b[1;32m   1176\u001b[0m             )\n\u001b[0;32m-> 1177\u001b[0;31m         return self._input_request(\n\u001b[0m\u001b[1;32m   1178\u001b[0m             \u001b[0mstr\u001b[0m\u001b[0;34m(\u001b[0m\u001b[0mprompt\u001b[0m\u001b[0;34m)\u001b[0m\u001b[0;34m,\u001b[0m\u001b[0;34m\u001b[0m\u001b[0;34m\u001b[0m\u001b[0m\n\u001b[1;32m   1179\u001b[0m             \u001b[0mself\u001b[0m\u001b[0;34m.\u001b[0m\u001b[0m_parent_ident\u001b[0m\u001b[0;34m[\u001b[0m\u001b[0;34m\"shell\"\u001b[0m\u001b[0;34m]\u001b[0m\u001b[0;34m,\u001b[0m\u001b[0;34m\u001b[0m\u001b[0;34m\u001b[0m\u001b[0m\n",
      "\u001b[0;32m/usr/local/lib/python3.11/dist-packages/ipykernel/kernelbase.py\u001b[0m in \u001b[0;36m_input_request\u001b[0;34m(self, prompt, ident, parent, password)\u001b[0m\n\u001b[1;32m   1217\u001b[0m             \u001b[0;32mexcept\u001b[0m \u001b[0mKeyboardInterrupt\u001b[0m\u001b[0;34m:\u001b[0m\u001b[0;34m\u001b[0m\u001b[0;34m\u001b[0m\u001b[0m\n\u001b[1;32m   1218\u001b[0m                 \u001b[0;31m# re-raise KeyboardInterrupt, to truncate traceback\u001b[0m\u001b[0;34m\u001b[0m\u001b[0;34m\u001b[0m\u001b[0m\n\u001b[0;32m-> 1219\u001b[0;31m                 \u001b[0;32mraise\u001b[0m \u001b[0mKeyboardInterrupt\u001b[0m\u001b[0;34m(\u001b[0m\u001b[0;34m\"Interrupted by user\"\u001b[0m\u001b[0;34m)\u001b[0m \u001b[0;32mfrom\u001b[0m \u001b[0;32mNone\u001b[0m\u001b[0;34m\u001b[0m\u001b[0;34m\u001b[0m\u001b[0m\n\u001b[0m\u001b[1;32m   1220\u001b[0m             \u001b[0;32mexcept\u001b[0m \u001b[0mException\u001b[0m\u001b[0;34m:\u001b[0m\u001b[0;34m\u001b[0m\u001b[0;34m\u001b[0m\u001b[0m\n\u001b[1;32m   1221\u001b[0m                 \u001b[0mself\u001b[0m\u001b[0;34m.\u001b[0m\u001b[0mlog\u001b[0m\u001b[0;34m.\u001b[0m\u001b[0mwarning\u001b[0m\u001b[0;34m(\u001b[0m\u001b[0;34m\"Invalid Message:\"\u001b[0m\u001b[0;34m,\u001b[0m \u001b[0mexc_info\u001b[0m\u001b[0;34m=\u001b[0m\u001b[0;32mTrue\u001b[0m\u001b[0;34m)\u001b[0m\u001b[0;34m\u001b[0m\u001b[0;34m\u001b[0m\u001b[0m\n",
      "\u001b[0;31mKeyboardInterrupt\u001b[0m: Interrupted by user"
     ]
    }
   ],
   "source": [
    "!pip install fuzzywuzzy python-Levenshtein\n",
    "def fuzzy_match_symptom(input_symptom, valid_symptoms, threshold=80):\n",
    "    match, score, _ = process.extractOne(input_symptom.lower().strip(), valid_symptoms)\n",
    "    return match if score >= threshold else None\n",
    "\n",
    "def predict_user_symptoms(input_string, model, selector, le, symptom_list):\n",
    "    # Fuzzy match\n",
    "    input_symptoms = [s.strip().lower().replace(\" \", \"_\") for s in input_string.split(\",\")]\n",
    "    matched = [fuzzy_match_symptom(sym, symptom_list) for sym in input_symptoms]\n",
    "    matched = [m for m in matched if m is not None]\n",
    "\n",
    "    print(\"🩺 Matched Symptoms:\", matched)\n",
    "\n",
    "    # Binary vector\n",
    "    input_vector = np.zeros(len(symptom_list))\n",
    "    for symptom in matched:\n",
    "        if symptom in symptom_list:\n",
    "            idx = symptom_list.index(symptom)\n",
    "            input_vector[idx] = 1\n",
    "\n",
    "    # Feature select\n",
    "    input_selected = selector.transform([input_vector])\n",
    "\n",
    "    # Predict\n",
    "    probs = model.predict_proba(input_selected)[0]\n",
    "    top_indices = np.argsort(probs)[::-1][:5]\n",
    "\n",
    "    print(\"\\n🔬 Top 5 Predicted Diseases:\")\n",
    "    for idx in top_indices:\n",
    "        disease = le.inverse_transform([idx])[0]\n",
    "        confidence = probs[idx]\n",
    "        print(f\"🔹 {disease}: {confidence:.2%}\")\n",
    "\n",
    "# === Run this to get prediction ===\n",
    "user_input = input(\"🤖 Enter your symptoms (comma-separated):\\n\")\n",
    "predict_user_symptoms(\n",
    "    input_string=user_input,\n",
    "    model=calibrated_bnb,\n",
    "    selector=k_best,\n",
    "    le=le,\n",
    "    symptom_list=symptom_columns\n",
    ")\n"
   ]
  },
  {
   "cell_type": "code",
   "execution_count": 4,
   "metadata": {
    "colab": {
     "base_uri": "https://localhost:8080/"
    },
    "id": "jefSEpwD4Q90",
    "outputId": "680a3af9-6f4f-4789-a288-388dbb0b504b"
   },
   "outputs": [
    {
     "name": "stdout",
     "output_type": "stream",
     "text": [
      "Requirement already satisfied: fuzzywuzzy in /usr/local/lib/python3.11/dist-packages (0.18.0)\n",
      "Requirement already satisfied: python-Levenshtein in /usr/local/lib/python3.11/dist-packages (0.27.1)\n",
      "Requirement already satisfied: Levenshtein==0.27.1 in /usr/local/lib/python3.11/dist-packages (from python-Levenshtein) (0.27.1)\n",
      "Requirement already satisfied: rapidfuzz<4.0.0,>=3.9.0 in /usr/local/lib/python3.11/dist-packages (from Levenshtein==0.27.1->python-Levenshtein) (3.13.0)\n",
      "✅ Accuracy: 0.9969512195121951\n",
      "                                         precision    recall  f1-score   support\n",
      "\n",
      "(vertigo) Paroymsal  Positional Vertigo       1.00      1.00      1.00        24\n",
      "                                   AIDS       1.00      1.00      1.00        24\n",
      "                                   Acne       1.00      0.88      0.93        24\n",
      "                    Alcoholic hepatitis       1.00      1.00      1.00        24\n",
      "                                Allergy       1.00      1.00      1.00        24\n",
      "                              Arthritis       1.00      1.00      1.00        24\n",
      "                       Bronchial Asthma       1.00      1.00      1.00        24\n",
      "                   Cervical spondylosis       1.00      1.00      1.00        24\n",
      "                            Chicken pox       1.00      1.00      1.00        24\n",
      "                    Chronic cholestasis       1.00      1.00      1.00        24\n",
      "                            Common Cold       1.00      1.00      1.00        24\n",
      "                                 Dengue       1.00      1.00      1.00        24\n",
      "                               Diabetes       1.00      1.00      1.00        24\n",
      "           Dimorphic hemmorhoids(piles)       1.00      1.00      1.00        24\n",
      "                          Drug Reaction       1.00      1.00      1.00        24\n",
      "                       Fungal infection       0.89      1.00      0.94        24\n",
      "                                   GERD       1.00      1.00      1.00        24\n",
      "                        Gastroenteritis       1.00      1.00      1.00        24\n",
      "                           Heart attack       1.00      1.00      1.00        24\n",
      "                            Hepatitis B       1.00      1.00      1.00        24\n",
      "                            Hepatitis C       1.00      1.00      1.00        24\n",
      "                            Hepatitis D       1.00      1.00      1.00        24\n",
      "                            Hepatitis E       1.00      1.00      1.00        24\n",
      "                          Hypertension        1.00      1.00      1.00        24\n",
      "                        Hyperthyroidism       1.00      1.00      1.00        24\n",
      "                           Hypoglycemia       1.00      1.00      1.00        24\n",
      "                         Hypothyroidism       1.00      1.00      1.00        24\n",
      "                               Impetigo       1.00      1.00      1.00        24\n",
      "                               Jaundice       1.00      1.00      1.00        24\n",
      "                                Malaria       1.00      1.00      1.00        24\n",
      "                               Migraine       1.00      1.00      1.00        24\n",
      "                        Osteoarthristis       1.00      1.00      1.00        24\n",
      "           Paralysis (brain hemorrhage)       1.00      1.00      1.00        24\n",
      "                   Peptic ulcer disease       1.00      1.00      1.00        24\n",
      "                              Pneumonia       1.00      1.00      1.00        24\n",
      "                              Psoriasis       1.00      1.00      1.00        24\n",
      "                           Tuberculosis       1.00      1.00      1.00        24\n",
      "                                Typhoid       1.00      1.00      1.00        24\n",
      "                Urinary tract infection       1.00      1.00      1.00        24\n",
      "                         Varicose veins       1.00      1.00      1.00        24\n",
      "                            hepatitis A       1.00      1.00      1.00        24\n",
      "\n",
      "                               accuracy                           1.00       984\n",
      "                              macro avg       1.00      1.00      1.00       984\n",
      "                           weighted avg       1.00      1.00      1.00       984\n",
      "\n",
      "🤖 Enter your symptoms (comma-separated):\n",
      "yellow eyes,fatigue,vomit\n",
      "✅ Matched symptoms: ['yellowing_of_eyes', 'fatigue', 'vomiting']\n",
      "\n",
      "🎯 Top Predictions:\n",
      "🔹 Paralysis (brain hemorrhage) — Confidence: 0.33\n",
      "🔹 Hepatitis D — Confidence: 0.27\n",
      "🔹 Hepatitis C — Confidence: 0.05\n",
      "🔹 Jaundice — Confidence: 0.01\n",
      "🔹 Acne — Confidence: 0.01\n"
     ]
    },
    {
     "name": "stderr",
     "output_type": "stream",
     "text": [
      "/usr/local/lib/python3.11/dist-packages/sklearn/utils/validation.py:2739: UserWarning: X does not have valid feature names, but SelectKBest was fitted with feature names\n",
      "  warnings.warn(\n"
     ]
    }
   ],
   "source": [
    "df = pd.read_csv(\"/mnt/data/improved_disease_dataset.csv\")\n",
    "df.head()"
   ]
  },
  {
   "cell_type": "code",
   "execution_count": 5,
   "metadata": {
    "colab": {
     "base_uri": "https://localhost:8080/",
     "height": 1000
    },
    "id": "zT5dwVq25xxI",
    "outputId": "96233b3c-3d0f-4a19-fa43-ea77c24a2c1b"
   },
   "outputs": [
    {
     "name": "stdout",
     "output_type": "stream",
     "text": [
      "\n",
      "✅ Test Accuracy: 0.9939024390243902\n",
      "              precision    recall  f1-score   support\n",
      "\n",
      "           0       1.00      1.00      1.00        24\n",
      "           1       1.00      0.83      0.91        24\n",
      "           2       1.00      0.92      0.96        24\n",
      "           3       1.00      1.00      1.00        24\n",
      "           4       1.00      1.00      1.00        24\n",
      "           5       1.00      1.00      1.00        24\n",
      "           6       1.00      1.00      1.00        24\n",
      "           7       1.00      1.00      1.00        24\n",
      "           8       1.00      1.00      1.00        24\n",
      "           9       1.00      1.00      1.00        24\n",
      "          10       1.00      1.00      1.00        24\n",
      "          11       1.00      1.00      1.00        24\n",
      "          12       1.00      1.00      1.00        24\n",
      "          13       1.00      1.00      1.00        24\n",
      "          14       1.00      1.00      1.00        24\n",
      "          15       1.00      1.00      1.00        24\n",
      "          16       1.00      1.00      1.00        24\n",
      "          17       1.00      1.00      1.00        24\n",
      "          18       1.00      1.00      1.00        24\n",
      "          19       1.00      1.00      1.00        24\n",
      "          20       1.00      1.00      1.00        24\n",
      "          21       1.00      1.00      1.00        24\n",
      "          22       1.00      1.00      1.00        24\n",
      "          23       1.00      1.00      1.00        24\n",
      "          24       1.00      1.00      1.00        24\n",
      "          25       1.00      1.00      1.00        24\n",
      "          26       1.00      1.00      1.00        24\n",
      "          27       1.00      1.00      1.00        24\n",
      "          28       1.00      1.00      1.00        24\n",
      "          29       1.00      1.00      1.00        24\n",
      "          30       1.00      1.00      1.00        24\n",
      "          31       1.00      1.00      1.00        24\n",
      "          32       1.00      1.00      1.00        24\n",
      "          33       1.00      1.00      1.00        24\n",
      "          34       1.00      1.00      1.00        24\n",
      "          35       1.00      1.00      1.00        24\n",
      "          36       1.00      1.00      1.00        24\n",
      "          37       1.00      1.00      1.00        24\n",
      "          38       0.80      1.00      0.89        24\n",
      "          39       1.00      1.00      1.00        24\n",
      "          40       1.00      1.00      1.00        24\n",
      "\n",
      "    accuracy                           0.99       984\n",
      "   macro avg       1.00      0.99      0.99       984\n",
      "weighted avg       1.00      0.99      0.99       984\n",
      "\n"
     ]
    },
    {
     "ename": "FileNotFoundError",
     "evalue": "[Errno 2] No such file or directory: '../model/symptom_mapping.json'",
     "output_type": "error",
     "traceback": [
      "\u001b[0;31m---------------------------------------------------------------------------\u001b[0m",
      "\u001b[0;31mFileNotFoundError\u001b[0m                         Traceback (most recent call last)",
      "\u001b[0;32m/tmp/ipython-input-4004436787.py\u001b[0m in \u001b[0;36m<cell line: 0>\u001b[0;34m()\u001b[0m\n\u001b[1;32m    115\u001b[0m     \u001b[0;34m\"vomit\"\u001b[0m\u001b[0;34m:\u001b[0m \u001b[0;34m\"vomiting\"\u001b[0m\u001b[0;34m\u001b[0m\u001b[0;34m\u001b[0m\u001b[0m\n\u001b[1;32m    116\u001b[0m }\n\u001b[0;32m--> 117\u001b[0;31m \u001b[0;32mwith\u001b[0m \u001b[0mopen\u001b[0m\u001b[0;34m(\u001b[0m\u001b[0;34m\"../model/symptom_mapping.json\"\u001b[0m\u001b[0;34m,\u001b[0m \u001b[0;34m\"w\"\u001b[0m\u001b[0;34m)\u001b[0m \u001b[0;32mas\u001b[0m \u001b[0mf\u001b[0m\u001b[0;34m:\u001b[0m\u001b[0;34m\u001b[0m\u001b[0;34m\u001b[0m\u001b[0m\n\u001b[0m\u001b[1;32m    118\u001b[0m     \u001b[0mjson\u001b[0m\u001b[0;34m.\u001b[0m\u001b[0mdump\u001b[0m\u001b[0;34m(\u001b[0m\u001b[0mSYMPTOM_SYNONYMS\u001b[0m\u001b[0;34m,\u001b[0m \u001b[0mf\u001b[0m\u001b[0;34m,\u001b[0m \u001b[0mindent\u001b[0m\u001b[0;34m=\u001b[0m\u001b[0;36m2\u001b[0m\u001b[0;34m)\u001b[0m\u001b[0;34m\u001b[0m\u001b[0;34m\u001b[0m\u001b[0m\n\u001b[1;32m    119\u001b[0m \u001b[0;34m\u001b[0m\u001b[0m\n",
      "\u001b[0;31mFileNotFoundError\u001b[0m: [Errno 2] No such file or directory: '../model/symptom_mapping.json'"
     ]
    }
   ],
   "source": [
    "df = pd.read_csv(\"/mnt/data/improved_disease_dataset.csv\")\n",
    "df.head()"
   ]
  },
  {
   "cell_type": "code",
   "execution_count": 8,
   "metadata": {
    "colab": {
     "base_uri": "https://localhost:8080/"
    },
    "id": "GZOdB4p16QO2",
    "outputId": "b22abfc2-2f2e-492f-edc7-ef3e3aebdd5f"
   },
   "outputs": [
    {
     "name": "stdout",
     "output_type": "stream",
     "text": [
      "✅ Test Accuracy: 1.0\n",
      "                                         precision    recall  f1-score   support\n",
      "\n",
      "(vertigo) Paroymsal  Positional Vertigo       1.00      1.00      1.00        24\n",
      "                                   AIDS       1.00      1.00      1.00        24\n",
      "                                   Acne       1.00      1.00      1.00        24\n",
      "                    Alcoholic hepatitis       1.00      1.00      1.00        24\n",
      "                                Allergy       1.00      1.00      1.00        24\n",
      "                              Arthritis       1.00      1.00      1.00        24\n",
      "                       Bronchial Asthma       1.00      1.00      1.00        24\n",
      "                   Cervical spondylosis       1.00      1.00      1.00        24\n",
      "                            Chicken pox       1.00      1.00      1.00        24\n",
      "                    Chronic cholestasis       1.00      1.00      1.00        24\n",
      "                            Common Cold       1.00      1.00      1.00        24\n",
      "                                 Dengue       1.00      1.00      1.00        24\n",
      "                               Diabetes       1.00      1.00      1.00        24\n",
      "           Dimorphic hemmorhoids(piles)       1.00      1.00      1.00        24\n",
      "                          Drug Reaction       1.00      1.00      1.00        24\n",
      "                       Fungal infection       1.00      1.00      1.00        24\n",
      "                                   GERD       1.00      1.00      1.00        24\n",
      "                        Gastroenteritis       1.00      1.00      1.00        24\n",
      "                           Heart attack       1.00      1.00      1.00        24\n",
      "                            Hepatitis B       1.00      1.00      1.00        24\n",
      "                            Hepatitis C       1.00      1.00      1.00        24\n",
      "                            Hepatitis D       1.00      1.00      1.00        24\n",
      "                            Hepatitis E       1.00      1.00      1.00        24\n",
      "                          Hypertension        1.00      1.00      1.00        24\n",
      "                        Hyperthyroidism       1.00      1.00      1.00        24\n",
      "                           Hypoglycemia       1.00      1.00      1.00        24\n",
      "                         Hypothyroidism       1.00      1.00      1.00        24\n",
      "                               Impetigo       1.00      1.00      1.00        24\n",
      "                               Jaundice       1.00      1.00      1.00        24\n",
      "                                Malaria       1.00      1.00      1.00        24\n",
      "                               Migraine       1.00      1.00      1.00        24\n",
      "                        Osteoarthristis       1.00      1.00      1.00        24\n",
      "           Paralysis (brain hemorrhage)       1.00      1.00      1.00        24\n",
      "                   Peptic ulcer disease       1.00      1.00      1.00        24\n",
      "                              Pneumonia       1.00      1.00      1.00        24\n",
      "                              Psoriasis       1.00      1.00      1.00        24\n",
      "                           Tuberculosis       1.00      1.00      1.00        24\n",
      "                                Typhoid       1.00      1.00      1.00        24\n",
      "                Urinary tract infection       1.00      1.00      1.00        24\n",
      "                         Varicose veins       1.00      1.00      1.00        24\n",
      "                            hepatitis A       1.00      1.00      1.00        24\n",
      "\n",
      "                               accuracy                           1.00       984\n",
      "                              macro avg       1.00      1.00      1.00       984\n",
      "                           weighted avg       1.00      1.00      1.00       984\n",
      "\n",
      "✅ Model saved successfully!\n",
      "\n",
      "🤖 Enter your symptoms (comma-separated):\n",
      "yellow eyes, vomiting, nausea, headache\n",
      "✅ Matched Symptoms: ['vomiting', 'nausea', 'headache']\n",
      "\n",
      "🎯 Top Predictions:\n",
      "🔹 Paralysis (brain hemorrhage) — Confidence: 0.73\n",
      "🔹 (vertigo) Paroymsal  Positional Vertigo — Confidence: 0.20\n",
      "🔹 Migraine — Confidence: 0.00\n",
      "🔹 Jaundice — Confidence: 0.00\n",
      "🔹 Acne — Confidence: 0.00\n"
     ]
    },
    {
     "name": "stderr",
     "output_type": "stream",
     "text": [
      "/usr/local/lib/python3.11/dist-packages/sklearn/utils/validation.py:2739: UserWarning: X does not have valid feature names, but SelectKBest was fitted with feature names\n",
      "  warnings.warn(\n"
     ]
    }
   ],
   "source": [
    "df = pd.read_csv(\"/mnt/data/improved_disease_dataset.csv\")\n",
    "df.head()"
   ]
  },
  {
   "cell_type": "code",
   "execution_count": 9,
   "metadata": {
    "colab": {
     "base_uri": "https://localhost:8080/"
    },
    "id": "4J1Ns98X7NVi",
    "outputId": "226fa240-8537-42e8-edbb-ef2b5dc5a237"
   },
   "outputs": [
    {
     "name": "stdout",
     "output_type": "stream",
     "text": [
      "\n",
      "✅ Test Accuracy: 1.0\n",
      "              precision    recall  f1-score   support\n",
      "\n",
      "           0       1.00      1.00      1.00        24\n",
      "           1       1.00      1.00      1.00        24\n",
      "           2       1.00      1.00      1.00        24\n",
      "           3       1.00      1.00      1.00        24\n",
      "           4       1.00      1.00      1.00        24\n",
      "           5       1.00      1.00      1.00        24\n",
      "           6       1.00      1.00      1.00        24\n",
      "           7       1.00      1.00      1.00        24\n",
      "           8       1.00      1.00      1.00        24\n",
      "           9       1.00      1.00      1.00        24\n",
      "          10       1.00      1.00      1.00        24\n",
      "          11       1.00      1.00      1.00        24\n",
      "          12       1.00      1.00      1.00        24\n",
      "          13       1.00      1.00      1.00        24\n",
      "          14       1.00      1.00      1.00        24\n",
      "          15       1.00      1.00      1.00        24\n",
      "          16       1.00      1.00      1.00        24\n",
      "          17       1.00      1.00      1.00        24\n",
      "          18       1.00      1.00      1.00        24\n",
      "          19       1.00      1.00      1.00        24\n",
      "          20       1.00      1.00      1.00        24\n",
      "          21       1.00      1.00      1.00        24\n",
      "          22       1.00      1.00      1.00        24\n",
      "          23       1.00      1.00      1.00        24\n",
      "          24       1.00      1.00      1.00        24\n",
      "          25       1.00      1.00      1.00        24\n",
      "          26       1.00      1.00      1.00        24\n",
      "          27       1.00      1.00      1.00        24\n",
      "          28       1.00      1.00      1.00        24\n",
      "          29       1.00      1.00      1.00        24\n",
      "          30       1.00      1.00      1.00        24\n",
      "          31       1.00      1.00      1.00        24\n",
      "          32       1.00      1.00      1.00        24\n",
      "          33       1.00      1.00      1.00        24\n",
      "          34       1.00      1.00      1.00        24\n",
      "          35       1.00      1.00      1.00        24\n",
      "          36       1.00      1.00      1.00        24\n",
      "          37       1.00      1.00      1.00        24\n",
      "          38       1.00      1.00      1.00        24\n",
      "          39       1.00      1.00      1.00        24\n",
      "          40       1.00      1.00      1.00        24\n",
      "\n",
      "    accuracy                           1.00       984\n",
      "   macro avg       1.00      1.00      1.00       984\n",
      "weighted avg       1.00      1.00      1.00       984\n",
      "\n",
      "✅ Model trained, tuned, evaluated, and saved successfully.\n",
      "\n",
      "🤖 Enter your symptoms (comma-separated):\n",
      "yellow eyes, fatigue, vomiting\n",
      "✅ Matched Symptoms: ['yellowing_of_eyes', 'fatigue', 'vomiting']\n",
      "\n",
      "🎯 Top Predictions:\n",
      "🔹 Paralysis (brain hemorrhage) — Confidence: 0.94\n",
      "🔹 Jaundice — Confidence: 0.00\n",
      "🔹 Hepatitis C — Confidence: 0.00\n",
      "🔹 Migraine — Confidence: 0.00\n",
      "🔹 Hypothyroidism — Confidence: 0.00\n"
     ]
    }
   ],
   "source": [
    "df = pd.read_csv(\"/mnt/data/improved_disease_dataset.csv\")\n",
    "df.head()"
   ]
  },
  {
   "cell_type": "code",
   "execution_count": 11,
   "metadata": {
    "colab": {
     "base_uri": "https://localhost:8080/"
    },
    "id": "mibp0VdK8jZz",
    "outputId": "3113cc28-b95a-40c9-983e-ea18e5b9f7f3"
   },
   "outputs": [
    {
     "name": "stdout",
     "output_type": "stream",
     "text": [
      "\n",
      "✅ Test Accuracy: 1.0\n",
      "              precision    recall  f1-score   support\n",
      "\n",
      "           0       1.00      1.00      1.00        24\n",
      "           1       1.00      1.00      1.00        24\n",
      "           2       1.00      1.00      1.00        24\n",
      "           3       1.00      1.00      1.00        24\n",
      "           4       1.00      1.00      1.00        24\n",
      "           5       1.00      1.00      1.00        24\n",
      "           6       1.00      1.00      1.00        24\n",
      "           7       1.00      1.00      1.00        24\n",
      "           8       1.00      1.00      1.00        24\n",
      "           9       1.00      1.00      1.00        24\n",
      "          10       1.00      1.00      1.00        24\n",
      "          11       1.00      1.00      1.00        24\n",
      "          12       1.00      1.00      1.00        24\n",
      "          13       1.00      1.00      1.00        24\n",
      "          14       1.00      1.00      1.00        24\n",
      "          15       1.00      1.00      1.00        24\n",
      "          16       1.00      1.00      1.00        24\n",
      "          17       1.00      1.00      1.00        24\n",
      "          18       1.00      1.00      1.00        24\n",
      "          19       1.00      1.00      1.00        24\n",
      "          20       1.00      1.00      1.00        24\n",
      "          21       1.00      1.00      1.00        24\n",
      "          22       1.00      1.00      1.00        24\n",
      "          23       1.00      1.00      1.00        24\n",
      "          24       1.00      1.00      1.00        24\n",
      "          25       1.00      1.00      1.00        24\n",
      "          26       1.00      1.00      1.00        24\n",
      "          27       1.00      1.00      1.00        24\n",
      "          28       1.00      1.00      1.00        24\n",
      "          29       1.00      1.00      1.00        24\n",
      "          30       1.00      1.00      1.00        24\n",
      "          31       1.00      1.00      1.00        24\n",
      "          32       1.00      1.00      1.00        24\n",
      "          33       1.00      1.00      1.00        24\n",
      "          34       1.00      1.00      1.00        24\n",
      "          35       1.00      1.00      1.00        24\n",
      "          36       1.00      1.00      1.00        24\n",
      "          37       1.00      1.00      1.00        24\n",
      "          38       1.00      1.00      1.00        24\n",
      "          39       1.00      1.00      1.00        24\n",
      "          40       1.00      1.00      1.00        24\n",
      "\n",
      "    accuracy                           1.00       984\n",
      "   macro avg       1.00      1.00      1.00       984\n",
      "weighted avg       1.00      1.00      1.00       984\n",
      "\n",
      "✅ Model trained, tuned, evaluated, and saved successfully.\n",
      "\n",
      "🤖 Enter your symptoms (comma-separated):\n",
      "yellowing of eyes,fatigue,vomitting,headache\n",
      "✅ Matched Symptoms: ['yellowing_of_eyes', 'fatigue', 'vomiting', 'headache']\n",
      "\n",
      "🎯 Top Predictions:\n",
      "🔹 Paralysis (brain hemorrhage) — Confidence: 0.49\n",
      "🔹 Hepatitis C — Confidence: 0.04\n",
      "🔹 (vertigo) Paroymsal  Positional Vertigo — Confidence: 0.04\n",
      "🔹 Hypoglycemia — Confidence: 0.04\n",
      "🔹 Hepatitis D — Confidence: 0.04\n"
     ]
    }
   ],
   "source": [
    "df = pd.read_csv(\"/mnt/data/improved_disease_dataset.csv\")\n",
    "df.head()"
   ]
  },
  {
   "cell_type": "code",
   "execution_count": 6,
   "metadata": {
    "colab": {
     "base_uri": "https://localhost:8080/",
     "height": 1000
    },
    "id": "pjY_fs6j9mTr",
    "outputId": "9f406b08-8a08-439c-dfe9-50b2ffeee0fa"
   },
   "outputs": [
    {
     "name": "stdout",
     "output_type": "stream",
     "text": [
      "Requirement already satisfied: fuzzywuzzy in /usr/local/lib/python3.11/dist-packages (0.18.0)\n",
      "Requirement already satisfied: python-Levenshtein in /usr/local/lib/python3.11/dist-packages (0.27.1)\n",
      "Requirement already satisfied: Levenshtein==0.27.1 in /usr/local/lib/python3.11/dist-packages (from python-Levenshtein) (0.27.1)\n",
      "Requirement already satisfied: rapidfuzz<4.0.0,>=3.9.0 in /usr/local/lib/python3.11/dist-packages (from Levenshtein==0.27.1->python-Levenshtein) (3.13.0)\n",
      "\n",
      "✅ Test Accuracy: 1.0\n",
      "              precision    recall  f1-score   support\n",
      "\n",
      "           0       1.00      1.00      1.00        24\n",
      "           1       1.00      1.00      1.00        24\n",
      "           2       1.00      1.00      1.00        24\n",
      "           3       1.00      1.00      1.00        24\n",
      "           4       1.00      1.00      1.00        24\n",
      "           5       1.00      1.00      1.00        24\n",
      "           6       1.00      1.00      1.00        24\n",
      "           7       1.00      1.00      1.00        24\n",
      "           8       1.00      1.00      1.00        24\n",
      "           9       1.00      1.00      1.00        24\n",
      "          10       1.00      1.00      1.00        24\n",
      "          11       1.00      1.00      1.00        24\n",
      "          12       1.00      1.00      1.00        24\n",
      "          13       1.00      1.00      1.00        24\n",
      "          14       1.00      1.00      1.00        24\n",
      "          15       1.00      1.00      1.00        24\n",
      "          16       1.00      1.00      1.00        24\n",
      "          17       1.00      1.00      1.00        24\n",
      "          18       1.00      1.00      1.00        24\n",
      "          19       1.00      1.00      1.00        24\n",
      "          20       1.00      1.00      1.00        24\n",
      "          21       1.00      1.00      1.00        24\n",
      "          22       1.00      1.00      1.00        24\n",
      "          23       1.00      1.00      1.00        24\n",
      "          24       1.00      1.00      1.00        24\n",
      "          25       1.00      1.00      1.00        24\n",
      "          26       1.00      1.00      1.00        24\n",
      "          27       1.00      1.00      1.00        24\n",
      "          28       1.00      1.00      1.00        24\n",
      "          29       1.00      1.00      1.00        24\n",
      "          30       1.00      1.00      1.00        24\n",
      "          31       1.00      1.00      1.00        24\n",
      "          32       1.00      1.00      1.00        24\n",
      "          33       1.00      1.00      1.00        24\n",
      "          34       1.00      1.00      1.00        24\n",
      "          35       1.00      1.00      1.00        24\n",
      "          36       1.00      1.00      1.00        24\n",
      "          37       1.00      1.00      1.00        24\n",
      "          38       1.00      1.00      1.00        24\n",
      "          39       1.00      1.00      1.00        24\n",
      "          40       1.00      1.00      1.00        24\n",
      "\n",
      "    accuracy                           1.00       984\n",
      "   macro avg       1.00      1.00      1.00       984\n",
      "weighted avg       1.00      1.00      1.00       984\n",
      "\n",
      "✅ Model trained, tuned, evaluated, and saved successfully.\n"
     ]
    },
    {
     "ename": "KeyboardInterrupt",
     "evalue": "Interrupted by user",
     "output_type": "error",
     "traceback": [
      "\u001b[0;31m---------------------------------------------------------------------------\u001b[0m",
      "\u001b[0;31mKeyboardInterrupt\u001b[0m                         Traceback (most recent call last)",
      "\u001b[0;32m/tmp/ipython-input-2147736554.py\u001b[0m in \u001b[0;36m<cell line: 0>\u001b[0;34m()\u001b[0m\n\u001b[1;32m    120\u001b[0m \u001b[0;34m\u001b[0m\u001b[0m\n\u001b[1;32m    121\u001b[0m \u001b[0;31m# === 9. Run Prediction Loop === #\u001b[0m\u001b[0;34m\u001b[0m\u001b[0;34m\u001b[0m\u001b[0m\n\u001b[0;32m--> 122\u001b[0;31m \u001b[0muser_input\u001b[0m \u001b[0;34m=\u001b[0m \u001b[0minput\u001b[0m\u001b[0;34m(\u001b[0m\u001b[0;34m\"\\n🤖 Enter your symptoms (comma-separated):\\n\"\u001b[0m\u001b[0;34m)\u001b[0m\u001b[0;34m\u001b[0m\u001b[0;34m\u001b[0m\u001b[0m\n\u001b[0m\u001b[1;32m    123\u001b[0m predict_user_input(\n\u001b[1;32m    124\u001b[0m     \u001b[0minput_text\u001b[0m\u001b[0;34m=\u001b[0m\u001b[0muser_input\u001b[0m\u001b[0;34m,\u001b[0m\u001b[0;34m\u001b[0m\u001b[0;34m\u001b[0m\u001b[0m\n",
      "\u001b[0;32m/usr/local/lib/python3.11/dist-packages/ipykernel/kernelbase.py\u001b[0m in \u001b[0;36mraw_input\u001b[0;34m(self, prompt)\u001b[0m\n\u001b[1;32m   1175\u001b[0m                 \u001b[0;34m\"raw_input was called, but this frontend does not support input requests.\"\u001b[0m\u001b[0;34m\u001b[0m\u001b[0;34m\u001b[0m\u001b[0m\n\u001b[1;32m   1176\u001b[0m             )\n\u001b[0;32m-> 1177\u001b[0;31m         return self._input_request(\n\u001b[0m\u001b[1;32m   1178\u001b[0m             \u001b[0mstr\u001b[0m\u001b[0;34m(\u001b[0m\u001b[0mprompt\u001b[0m\u001b[0;34m)\u001b[0m\u001b[0;34m,\u001b[0m\u001b[0;34m\u001b[0m\u001b[0;34m\u001b[0m\u001b[0m\n\u001b[1;32m   1179\u001b[0m             \u001b[0mself\u001b[0m\u001b[0;34m.\u001b[0m\u001b[0m_parent_ident\u001b[0m\u001b[0;34m[\u001b[0m\u001b[0;34m\"shell\"\u001b[0m\u001b[0;34m]\u001b[0m\u001b[0;34m,\u001b[0m\u001b[0;34m\u001b[0m\u001b[0;34m\u001b[0m\u001b[0m\n",
      "\u001b[0;32m/usr/local/lib/python3.11/dist-packages/ipykernel/kernelbase.py\u001b[0m in \u001b[0;36m_input_request\u001b[0;34m(self, prompt, ident, parent, password)\u001b[0m\n\u001b[1;32m   1217\u001b[0m             \u001b[0;32mexcept\u001b[0m \u001b[0mKeyboardInterrupt\u001b[0m\u001b[0;34m:\u001b[0m\u001b[0;34m\u001b[0m\u001b[0;34m\u001b[0m\u001b[0m\n\u001b[1;32m   1218\u001b[0m                 \u001b[0;31m# re-raise KeyboardInterrupt, to truncate traceback\u001b[0m\u001b[0;34m\u001b[0m\u001b[0;34m\u001b[0m\u001b[0m\n\u001b[0;32m-> 1219\u001b[0;31m                 \u001b[0;32mraise\u001b[0m \u001b[0mKeyboardInterrupt\u001b[0m\u001b[0;34m(\u001b[0m\u001b[0;34m\"Interrupted by user\"\u001b[0m\u001b[0;34m)\u001b[0m \u001b[0;32mfrom\u001b[0m \u001b[0;32mNone\u001b[0m\u001b[0;34m\u001b[0m\u001b[0;34m\u001b[0m\u001b[0m\n\u001b[0m\u001b[1;32m   1220\u001b[0m             \u001b[0;32mexcept\u001b[0m \u001b[0mException\u001b[0m\u001b[0;34m:\u001b[0m\u001b[0;34m\u001b[0m\u001b[0;34m\u001b[0m\u001b[0m\n\u001b[1;32m   1221\u001b[0m                 \u001b[0mself\u001b[0m\u001b[0;34m.\u001b[0m\u001b[0mlog\u001b[0m\u001b[0;34m.\u001b[0m\u001b[0mwarning\u001b[0m\u001b[0;34m(\u001b[0m\u001b[0;34m\"Invalid Message:\"\u001b[0m\u001b[0;34m,\u001b[0m \u001b[0mexc_info\u001b[0m\u001b[0;34m=\u001b[0m\u001b[0;32mTrue\u001b[0m\u001b[0;34m)\u001b[0m\u001b[0;34m\u001b[0m\u001b[0;34m\u001b[0m\u001b[0m\n",
      "\u001b[0;31mKeyboardInterrupt\u001b[0m: Interrupted by user"
     ]
    }
   ],
   "source": [
    "df = pd.read_csv(\"/mnt/data/improved_disease_dataset.csv\")\n",
    "df.head()"
   ]
  },
  {
   "cell_type": "code",
   "execution_count": 4,
   "metadata": {
    "colab": {
     "base_uri": "https://localhost:8080/"
    },
    "id": "7eZb3cIEV9Ns",
    "outputId": "c3969d93-92d8-478d-e620-13049039634a"
   },
   "outputs": [
    {
     "name": "stdout",
     "output_type": "stream",
     "text": [
      "🔍 Top symptoms for Jaundice in dataset:\n",
      "itching           114\n",
      "weight_loss       114\n",
      "fatigue           114\n",
      "vomiting          114\n",
      "dark_urine        114\n",
      "yellowish_skin    114\n",
      "abdominal_pain    114\n",
      "high_fever        114\n",
      "dtype: int64\n"
     ]
    }
   ],
   "source": [
    "# Filter rows where the disease is Jaundice\n",
    "jaundice_cases = df[df['prognosis'].str.lower().str.strip() == 'jaundice']\n",
    "\n",
    "# Drop the prognosis column to get only symptoms\n",
    "jaundice_symptoms = jaundice_cases.drop(columns=['prognosis'])\n",
    "\n",
    "# Count how many times each symptom appears (sum of 1s)\n",
    "jaundice_profile = jaundice_symptoms.sum().sort_values(ascending=False)\n",
    "\n",
    "# Show the top symptoms\n",
    "print(\"🔍 Top symptoms for Jaundice in dataset:\")\n",
    "print(jaundice_profile[jaundice_profile > 0])\n"
   ]
  },
  {
   "cell_type": "code",
   "execution_count": 7,
   "metadata": {
    "colab": {
     "base_uri": "https://localhost:8080/"
    },
    "id": "zanEhxd4azdG",
    "outputId": "e230d536-c123-4e85-e0f9-81f0d3941cdf"
   },
   "outputs": [
    {
     "name": "stdout",
     "output_type": "stream",
     "text": [
      "\n",
      "✅ Test Accuracy: 0.9979674796747967\n",
      "              precision    recall  f1-score   support\n",
      "\n",
      "           0       1.00      1.00      1.00        24\n",
      "           1       0.96      1.00      0.98        24\n",
      "           2       0.96      1.00      0.98        24\n",
      "           3       1.00      1.00      1.00        24\n",
      "           4       1.00      1.00      1.00        24\n",
      "           5       1.00      1.00      1.00        24\n",
      "           6       1.00      1.00      1.00        24\n",
      "           7       1.00      1.00      1.00        24\n",
      "           8       1.00      1.00      1.00        24\n",
      "           9       1.00      1.00      1.00        24\n",
      "          10       1.00      1.00      1.00        24\n",
      "          11       1.00      1.00      1.00        24\n",
      "          12       1.00      1.00      1.00        24\n",
      "          13       1.00      1.00      1.00        24\n",
      "          14       1.00      1.00      1.00        24\n",
      "          15       1.00      0.96      0.98        24\n",
      "          16       1.00      1.00      1.00        24\n",
      "          17       1.00      1.00      1.00        24\n",
      "          18       1.00      1.00      1.00        24\n",
      "          19       1.00      1.00      1.00        24\n",
      "          20       1.00      1.00      1.00        24\n",
      "          21       1.00      1.00      1.00        24\n",
      "          22       1.00      1.00      1.00        24\n",
      "          23       1.00      1.00      1.00        24\n",
      "          24       1.00      1.00      1.00        24\n",
      "          25       1.00      1.00      1.00        24\n",
      "          26       1.00      1.00      1.00        24\n",
      "          27       1.00      1.00      1.00        24\n",
      "          28       1.00      1.00      1.00        24\n",
      "          29       1.00      1.00      1.00        24\n",
      "          30       1.00      1.00      1.00        24\n",
      "          31       1.00      1.00      1.00        24\n",
      "          32       1.00      1.00      1.00        24\n",
      "          33       1.00      1.00      1.00        24\n",
      "          34       1.00      1.00      1.00        24\n",
      "          35       1.00      1.00      1.00        24\n",
      "          36       1.00      1.00      1.00        24\n",
      "          37       1.00      1.00      1.00        24\n",
      "          38       1.00      0.96      0.98        24\n",
      "          39       1.00      1.00      1.00        24\n",
      "          40       1.00      1.00      1.00        24\n",
      "\n",
      "    accuracy                           1.00       984\n",
      "   macro avg       1.00      1.00      1.00       984\n",
      "weighted avg       1.00      1.00      1.00       984\n",
      "\n",
      "✅ Model trained, tuned, evaluated, and saved successfully.\n",
      "\n",
      "🤖 Enter your symptoms (comma-separated):\n",
      "headache,fever , chills\n",
      "✅ Matched Symptoms: ['headache', 'high_fever', 'chills']\n",
      "\n",
      "🎯 Top Predictions:\n",
      "🔹 AIDS — Confidence: 0.63\n",
      "🔹 Malaria — Confidence: 0.12\n",
      "🔹 Typhoid — Confidence: 0.05\n",
      "🔹 Allergy — Confidence: 0.04\n",
      "🔹 Paralysis (brain hemorrhage) — Confidence: 0.02\n"
     ]
    }
   ],
   "source": [
    "df = pd.read_csv(\"/mnt/data/improved_disease_dataset.csv\")\n",
    "df.head()"
   ]
  },
  {
   "cell_type": "code",
   "execution_count": 8,
   "metadata": {
    "colab": {
     "base_uri": "https://localhost:8080/"
    },
    "id": "gLLeWcX6dNB5",
    "outputId": "11e4dc67-aab9-4068-ad96-eca2052e6ee1"
   },
   "outputs": [
    {
     "name": "stdout",
     "output_type": "stream",
     "text": [
      "\n",
      "🧾 Top symptoms for Jaundice:\n",
      "\n",
      "high_fever        117\n",
      "weight_loss       117\n",
      "dark_urine        116\n",
      "fatigue           115\n",
      "yellowish_skin    114\n",
      "itching           114\n",
      "abdominal_pain    112\n",
      "vomiting          108\n",
      "dtype: int64\n",
      "\n",
      "🧾 Top symptoms for Malaria:\n",
      "\n",
      "muscle_pain    120\n",
      "sweating       117\n",
      "high_fever     117\n",
      "nausea         116\n",
      "vomiting       115\n",
      "headache       114\n",
      "chills         108\n",
      "diarrhoea      107\n",
      "dtype: int64\n",
      "\n",
      "🧾 Top symptoms for Typhoid:\n",
      "\n",
      "fatigue                120\n",
      "high_fever             120\n",
      "chills                 120\n",
      "toxic_look_(typhos)    117\n",
      "belly_pain             117\n",
      "headache               115\n",
      "diarrhoea              115\n",
      "constipation           114\n",
      "vomiting               112\n",
      "nausea                 112\n",
      "abdominal_pain         108\n",
      "dtype: int64\n",
      "\n",
      "🧾 Top symptoms for Migraine:\n",
      "\n",
      "excessive_hunger                117\n",
      "stiff_neck                      117\n",
      "irritability                    116\n",
      "blurred_and_distorted_vision    115\n",
      "depression                      114\n",
      "indigestion                     114\n",
      "acidity                         112\n",
      "visual_disturbances             112\n",
      "headache                        108\n",
      "dtype: int64\n",
      "\n",
      "🧾 Top symptoms for Paralysis (brain hemorrhage):\n",
      "\n",
      "altered_sensorium            117\n",
      "vomiting                     108\n",
      "weakness_of_one_body_side    107\n",
      "headache                     104\n",
      "dtype: int64\n"
     ]
    }
   ],
   "source": [
    "# === 10. Inspect Symptoms for a Specific Disease === #\n",
    "def get_symptom_profile(disease_name):\n",
    "    if disease_name not in df_balanced['prognosis'].values:\n",
    "        print(f\"❌ '{disease_name}' not found in dataset.\")\n",
    "        return\n",
    "\n",
    "    disease_rows = df_balanced[df_balanced['prognosis'] == disease_name]\n",
    "    symptom_sum = disease_rows.drop(columns=\"prognosis\").sum().sort_values(ascending=False)\n",
    "    print(f\"\\n🧾 Top symptoms for {disease_name}:\\n\")\n",
    "    print(symptom_sum[symptom_sum > 0])\n",
    "\n",
    "# ✅ Example usage:\n",
    "get_symptom_profile(\"Jaundice\")\n",
    "get_symptom_profile(\"Malaria\")\n",
    "get_symptom_profile(\"Typhoid\")\n",
    "get_symptom_profile(\"Migraine\")\n",
    "get_symptom_profile(\"Paralysis (brain hemorrhage)\")\n"
   ]
  },
  {
   "cell_type": "code",
   "execution_count": 9,
   "metadata": {
    "id": "l2NYw2EWdwCz"
   },
   "outputs": [],
   "source": [
    "def unique_symptoms_by_disease(df, disease, top_k=10):\n",
    "    all_other = df[df[\"prognosis\"] != disease].drop(columns=[\"prognosis\"])\n",
    "    target_rows = df[df[\"prognosis\"] == disease].drop(columns=[\"prognosis\"])\n",
    "    difference = (target_rows.mean() - all_other.mean()).sort_values(ascending=False)\n",
    "    print(f\"\\n🔬 Unique/high-differentiating symptoms for {disease}:\")\n",
    "    print(difference.head(top_k))\n"
   ]
  },
  {
   "cell_type": "code",
   "execution_count": 10,
   "metadata": {
    "colab": {
     "base_uri": "https://localhost:8080/"
    },
    "id": "HJPoXiaGd0k6",
    "outputId": "f818a5fc-eed3-4bba-e75a-e2f3125a3e61"
   },
   "outputs": [
    {
     "name": "stdout",
     "output_type": "stream",
     "text": [
      "\n",
      "🔬 Unique/high-differentiating symptoms for Jaundice:\n",
      "weight_loss          0.904167\n",
      "dark_urine           0.869375\n",
      "itching              0.832500\n",
      "yellowish_skin       0.786458\n",
      "abdominal_pain       0.740625\n",
      "high_fever           0.716250\n",
      "fatigue              0.582708\n",
      "vomiting             0.530417\n",
      "fluid_overload       0.000000\n",
      "weakness_in_limbs   -0.020833\n",
      "dtype: float64\n",
      "\n",
      "🔬 Unique/high-differentiating symptoms for Migraine:\n",
      "stiff_neck                      0.952500\n",
      "visual_disturbances             0.933333\n",
      "indigestion                     0.928542\n",
      "depression                      0.925000\n",
      "blurred_and_distorted_vision    0.911250\n",
      "acidity                         0.911250\n",
      "excessive_hunger                0.903333\n",
      "irritability                    0.891667\n",
      "headache                        0.689167\n",
      "fluid_overload                  0.000000\n",
      "dtype: float64\n"
     ]
    }
   ],
   "source": [
    "unique_symptoms_by_disease(df_balanced, \"Jaundice\")\n",
    "unique_symptoms_by_disease(df_balanced, \"Migraine\")\n"
   ]
  }
 ],
 "metadata": {
  "colab": {
   "provenance": []
  },
  "kernelspec": {
   "display_name": "Python 3",
   "name": "python3"
  },
  "language_info": {
   "name": "python"
  }
 },
 "nbformat": 4,
 "nbformat_minor": 0
}
